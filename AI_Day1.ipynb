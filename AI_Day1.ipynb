{
  "nbformat": 4,
  "nbformat_minor": 0,
  "metadata": {
    "colab": {
      "provenance": [],
      "authorship_tag": "ABX9TyPENBN25GKq3QU+5wcPVp9c",
      "include_colab_link": true
    },
    "kernelspec": {
      "name": "python3",
      "display_name": "Python 3"
    },
    "language_info": {
      "name": "python"
    }
  },
  "cells": [
    {
      "cell_type": "markdown",
      "metadata": {
        "id": "view-in-github",
        "colab_type": "text"
      },
      "source": [
        "<a href=\"https://colab.research.google.com/github/RamithN2002/ml_ai_notebooks/blob/main/AI_Day1.ipynb\" target=\"_parent\"><img src=\"https://colab.research.google.com/assets/colab-badge.svg\" alt=\"Open In Colab\"/></a>"
      ]
    },
    {
      "cell_type": "markdown",
      "source": [
        "## Data Types \n",
        "\n",
        "# Numbers\n"
      ],
      "metadata": {
        "id": "H6IBkfxQUpD2"
      }
    },
    {
      "cell_type": "code",
      "source": [
        "1   +   1 "
      ],
      "metadata": {
        "colab": {
          "base_uri": "https://localhost:8080/"
        },
        "id": "NU8t24yuU4TF",
        "outputId": "b655acf8-cc37-4c75-ee1b-14def5407f93"
      },
      "execution_count": 10,
      "outputs": [
        {
          "output_type": "execute_result",
          "data": {
            "text/plain": [
              "2"
            ]
          },
          "metadata": {},
          "execution_count": 10
        }
      ]
    },
    {
      "cell_type": "code",
      "source": [
        "1 * 3 "
      ],
      "metadata": {
        "colab": {
          "base_uri": "https://localhost:8080/"
        },
        "id": "QxeRV7R4VIHF",
        "outputId": "a769099a-c058-4f55-b1e6-4bd34b3b0661"
      },
      "execution_count": 11,
      "outputs": [
        {
          "output_type": "execute_result",
          "data": {
            "text/plain": [
              "3"
            ]
          },
          "metadata": {},
          "execution_count": 11
        }
      ]
    },
    {
      "cell_type": "code",
      "source": [
        "(2 + 3) * (5 + 5)"
      ],
      "metadata": {
        "colab": {
          "base_uri": "https://localhost:8080/"
        },
        "id": "sbxR_BqWVSNB",
        "outputId": "84c73159-cca1-44bf-8548-60d676ac02b9"
      },
      "execution_count": 12,
      "outputs": [
        {
          "output_type": "execute_result",
          "data": {
            "text/plain": [
              "50"
            ]
          },
          "metadata": {},
          "execution_count": 12
        }
      ]
    },
    {
      "cell_type": "markdown",
      "source": [
        "# **Variable Assignment**"
      ],
      "metadata": {
        "id": "T7YTllhdVdiK"
      }
    },
    {
      "cell_type": "code",
      "source": [
        "# Can not start with number or special characters\n",
        "name_of_var = 2"
      ],
      "metadata": {
        "id": "EXspNFmSVesd"
      },
      "execution_count": 13,
      "outputs": []
    },
    {
      "cell_type": "code",
      "source": [
        "x = 2\n",
        "y = 3"
      ],
      "metadata": {
        "id": "aVa74v4DWIJr"
      },
      "execution_count": 14,
      "outputs": []
    },
    {
      "cell_type": "code",
      "source": [
        "z = x + y"
      ],
      "metadata": {
        "id": "re9MlzpuWL9E"
      },
      "execution_count": 15,
      "outputs": []
    },
    {
      "cell_type": "code",
      "source": [
        "z"
      ],
      "metadata": {
        "colab": {
          "base_uri": "https://localhost:8080/"
        },
        "id": "L8FaYKjTWSUB",
        "outputId": "ece4752a-e6c1-400e-fa2b-f54522c34be6"
      },
      "execution_count": 16,
      "outputs": [
        {
          "output_type": "execute_result",
          "data": {
            "text/plain": [
              "5"
            ]
          },
          "metadata": {},
          "execution_count": 16
        }
      ]
    },
    {
      "cell_type": "markdown",
      "source": [
        "# **Strings**"
      ],
      "metadata": {
        "id": "oQT7l2M8WwY8"
      }
    },
    {
      "cell_type": "code",
      "source": [
        "'single quotes'"
      ],
      "metadata": {
        "colab": {
          "base_uri": "https://localhost:8080/",
          "height": 35
        },
        "id": "-yZqlvG8WybI",
        "outputId": "b820a75c-310d-45b0-8be5-9d2210dafc48"
      },
      "execution_count": 17,
      "outputs": [
        {
          "output_type": "execute_result",
          "data": {
            "text/plain": [
              "'single quotes'"
            ],
            "application/vnd.google.colaboratory.intrinsic+json": {
              "type": "string"
            }
          },
          "metadata": {},
          "execution_count": 17
        }
      ]
    },
    {
      "cell_type": "code",
      "source": [
        "\"double quotes\""
      ],
      "metadata": {
        "colab": {
          "base_uri": "https://localhost:8080/",
          "height": 35
        },
        "id": "Roup13qzW4yz",
        "outputId": "e4f25bb3-fbd3-4eab-aac5-2486785d1a0c"
      },
      "execution_count": 18,
      "outputs": [
        {
          "output_type": "execute_result",
          "data": {
            "text/plain": [
              "'double quotes'"
            ],
            "application/vnd.google.colaboratory.intrinsic+json": {
              "type": "string"
            }
          },
          "metadata": {},
          "execution_count": 18
        }
      ]
    },
    {
      "cell_type": "code",
      "source": [
        "\" wrap lot's of other quotes\""
      ],
      "metadata": {
        "colab": {
          "base_uri": "https://localhost:8080/",
          "height": 35
        },
        "id": "c3IEMO3eW_Rv",
        "outputId": "065b7e9b-837c-4403-926b-ce1f1f389327"
      },
      "execution_count": 19,
      "outputs": [
        {
          "output_type": "execute_result",
          "data": {
            "text/plain": [
              "\" wrap lot's of other quotes\""
            ],
            "application/vnd.google.colaboratory.intrinsic+json": {
              "type": "string"
            }
          },
          "metadata": {},
          "execution_count": 19
        }
      ]
    },
    {
      "cell_type": "markdown",
      "source": [
        "# **Printing**"
      ],
      "metadata": {
        "id": "1tdkOEdBXHY3"
      }
    },
    {
      "cell_type": "code",
      "source": [
        "x = 'hello'"
      ],
      "metadata": {
        "id": "P2OK5wFPXJ5n"
      },
      "execution_count": 20,
      "outputs": []
    },
    {
      "cell_type": "code",
      "source": [
        "x"
      ],
      "metadata": {
        "colab": {
          "base_uri": "https://localhost:8080/",
          "height": 35
        },
        "id": "L4_v09RLXSvS",
        "outputId": "65357255-172f-49c0-fa97-adfee116b16f"
      },
      "execution_count": 21,
      "outputs": [
        {
          "output_type": "execute_result",
          "data": {
            "text/plain": [
              "'hello'"
            ],
            "application/vnd.google.colaboratory.intrinsic+json": {
              "type": "string"
            }
          },
          "metadata": {},
          "execution_count": 21
        }
      ]
    },
    {
      "cell_type": "code",
      "source": [
        "print(x)"
      ],
      "metadata": {
        "colab": {
          "base_uri": "https://localhost:8080/"
        },
        "id": "p8JVzeV3XV7I",
        "outputId": "43067a1a-9f36-40b3-98d0-0d1acd13d122"
      },
      "execution_count": 22,
      "outputs": [
        {
          "output_type": "stream",
          "name": "stdout",
          "text": [
            "hello\n"
          ]
        }
      ]
    },
    {
      "cell_type": "code",
      "source": [
        "num = 12\n",
        "name = 'Sam'\n"
      ],
      "metadata": {
        "id": "8y6Qjd1UXalC"
      },
      "execution_count": 23,
      "outputs": []
    },
    {
      "cell_type": "markdown",
      "source": [
        "# **Dictionaries**"
      ],
      "metadata": {
        "id": "a5XDaY5VZTU5"
      }
    },
    {
      "cell_type": "code",
      "source": [
        "d = {'key1':'item1','key2':'item2'}\n"
      ],
      "metadata": {
        "id": "zAFGnYUlZV0s"
      },
      "execution_count": 24,
      "outputs": []
    },
    {
      "cell_type": "markdown",
      "source": [
        "d\n"
      ],
      "metadata": {
        "id": "0NUYgF3qZgIp"
      }
    },
    {
      "cell_type": "code",
      "source": [
        "d['key1']"
      ],
      "metadata": {
        "colab": {
          "base_uri": "https://localhost:8080/",
          "height": 35
        },
        "id": "LznKamFMZkDB",
        "outputId": "210d664b-cc68-4e42-da03-38cb23ef9786"
      },
      "execution_count": 26,
      "outputs": [
        {
          "output_type": "execute_result",
          "data": {
            "text/plain": [
              "'item1'"
            ],
            "application/vnd.google.colaboratory.intrinsic+json": {
              "type": "string"
            }
          },
          "metadata": {},
          "execution_count": 26
        }
      ]
    },
    {
      "cell_type": "markdown",
      "source": [
        "# **Booleans**"
      ],
      "metadata": {
        "id": "fCHjP514ZqQH"
      }
    },
    {
      "cell_type": "code",
      "source": [
        "True"
      ],
      "metadata": {
        "colab": {
          "base_uri": "https://localhost:8080/"
        },
        "id": "y0lV32FxZtCZ",
        "outputId": "925becca-068a-4c41-92f2-a1c96e345525"
      },
      "execution_count": 27,
      "outputs": [
        {
          "output_type": "execute_result",
          "data": {
            "text/plain": [
              "True"
            ]
          },
          "metadata": {},
          "execution_count": 27
        }
      ]
    },
    {
      "cell_type": "code",
      "source": [
        "False"
      ],
      "metadata": {
        "colab": {
          "base_uri": "https://localhost:8080/"
        },
        "id": "80HYgvwGZywt",
        "outputId": "14ede6a1-887f-4088-c73e-d706c50ed4a7"
      },
      "execution_count": 28,
      "outputs": [
        {
          "output_type": "execute_result",
          "data": {
            "text/plain": [
              "False"
            ]
          },
          "metadata": {},
          "execution_count": 28
        }
      ]
    }
  ]
}